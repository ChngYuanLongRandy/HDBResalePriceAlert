{
 "cells": [
  {
   "cell_type": "code",
   "execution_count": 1,
   "metadata": {},
   "outputs": [],
   "source": [
    "import selenium"
   ]
  },
  {
   "cell_type": "code",
   "execution_count": 2,
   "metadata": {},
   "outputs": [],
   "source": [
    "from selenium import webdriver\n",
    "from selenium.webdriver.common.keys import Keys\n",
    "from selenium.webdriver.common.by import By\n",
    "\n",
    "driver = webdriver.Firefox()\n",
    "driver.get(\"http://www.python.org\")\n",
    "assert \"Python\" in driver.title\n",
    "elem = driver.find_element(By.NAME, \"q\")\n",
    "elem.clear()\n",
    "elem.send_keys(\"pycon\")\n",
    "elem.send_keys(Keys.RETURN)\n",
    "assert \"No results found.\" not in driver.page_source\n",
    "driver.close()"
   ]
  },
  {
   "cell_type": "code",
   "execution_count": 7,
   "metadata": {},
   "outputs": [],
   "source": [
    "from selenium import webdriver\n",
    "from selenium.webdriver.common.keys import Keys\n",
    "from selenium.webdriver.common.by import By\n",
    "\n",
    "hdb_link = \"https://services2.hdb.gov.sg/webapp/BB33RTIS/BB33SComparator\"\n",
    "hdb_title = \"Resale Flat Prices\"\n",
    "user_profile_title = \"userProfileB\"\n",
    "flat_type_title = \"FLAT_TYPE\"\n",
    "flat_type_val = Keys.NUMPAD4\n",
    "town_title = \"NME_NEWTOWN\"\n",
    "town_val = \"j\"\n",
    "date_range_title = \"dteRange\"\n",
    "submit_btn_id = \"btnSubmit\"\n",
    "\n",
    "driver = webdriver.Chrome()\n",
    "driver.get(hdb_link)\n",
    "assert hdb_title in driver.title\n",
    "radio = driver.find_element(By.ID, user_profile_title)\n",
    "radio.click()\n",
    "flat_type = driver.find_element(By.NAME, flat_type_title)\n",
    "flat_type.send_keys(flat_type_val)\n",
    "\n",
    "hdb_town = driver.find_element(By.NAME, town_title)\n",
    "hdb_town.send_keys(town_val)\n",
    "\n",
    "date_range_field = driver.find_element(By.ID , date_range_title)\n",
    "date_range_field.send_keys(Keys.DOWN)\n",
    "date_range_field.send_keys(Keys.DOWN) # for 1 year\n",
    "\n",
    "submit_btn = driver.find_element(By.ID, submit_btn_id)\n",
    "submit_btn.click()\n",
    "\n",
    "# print(elem)\n",
    "# elem.clear()\n",
    "# elem.send_keys(\"pycon\")\n",
    "# elem.send_keys(Keys.RETURN)\n",
    "# assert \"No results found.\" not in driver.page_source\n",
    "# driver.close()"
   ]
  }
 ],
 "metadata": {
  "kernelspec": {
   "display_name": "hdb-resale-alert-env",
   "language": "python",
   "name": "python3"
  },
  "language_info": {
   "codemirror_mode": {
    "name": "ipython",
    "version": 3
   },
   "file_extension": ".py",
   "mimetype": "text/x-python",
   "name": "python",
   "nbconvert_exporter": "python",
   "pygments_lexer": "ipython3",
   "version": "3.12.0"
  }
 },
 "nbformat": 4,
 "nbformat_minor": 2
}
