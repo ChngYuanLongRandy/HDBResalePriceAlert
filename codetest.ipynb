{
 "cells": [
  {
   "cell_type": "code",
   "execution_count": 1,
   "metadata": {},
   "outputs": [],
   "source": [
    "from selenium import webdriver\n",
    "from selenium.webdriver.common.keys import Keys\n",
    "from selenium.webdriver.common.by import By\n",
    "from selenium.webdriver.support.wait import WebDriverWait\n",
    "from selenium.webdriver.support import expected_conditions as EC\n",
    "import time\n",
    "\n",
    "hdb_link = \"https://services2.hdb.gov.sg/webapp/BB33RTIS/BB33SComparator\"\n",
    "hdb_title = \"Resale Flat Prices\"\n",
    "user_profile_title = \"userProfileB\"\n",
    "flat_type_title = \"FLAT_TYPE\"\n",
    "flat_type_val = Keys.NUMPAD4\n",
    "town_title = \"NME_NEWTOWN\"\n",
    "town_val = None\n",
    "# town_val = \"a\"\n",
    "street_title = \"NME_STREET\"\n",
    "# street_val = None\n",
    "street_val = \"Ang Mo Kio Ave 3\"\n",
    "date_range_title = \"dteRange\"\n",
    "submit_btn_id = \"btnSubmit\"\n",
    "\n",
    "params = {\"hdb_link\":hdb_link,\n",
    "          \"hdb_title\":hdb_title,\n",
    "          \"user_profile_title\":user_profile_title,\n",
    "          \"flat_type_title\":flat_type_title,\n",
    "          \"flat_type_val\":flat_type_val,\n",
    "          \"town_title\":town_title,\n",
    "          \"town_val\":town_val,\n",
    "          \"street_title\":street_title,\n",
    "          \"street_val\":street_val,\n",
    "          \"date_range_title\":date_range_title,\n",
    "          \"submit_btn_id\":submit_btn_id}"
   ]
  },
  {
   "cell_type": "code",
   "execution_count": 2,
   "metadata": {},
   "outputs": [],
   "source": [
    "# start the driver, returns a webdriver chrome object\n",
    "def start_driver() -> webdriver.Chrome:\n",
    "    driver = webdriver.Chrome()\n",
    "    driver.get(hdb_link)\n",
    "    assert hdb_title in driver.title\n",
    "    return driver"
   ]
  },
  {
   "cell_type": "code",
   "execution_count": 3,
   "metadata": {},
   "outputs": [],
   "source": [
    "# runs the query in the website with HDB town \n",
    "def run_query_hdb(driver: webdriver.Chrome, params:dict):\n",
    "    print(\"running hdb\")\n",
    "    hdb_town = driver.find_element(By.NAME, params[\"town_title\"])\n",
    "    hdb_town.send_keys(params[\"town_val\"])\n",
    "\n",
    "\n",
    "# runs the query in the website with Street Name\n",
    "def run_query_street(driver: webdriver.Chrome, params:dict):\n",
    "    print(\"running street\")\n",
    "    street_field = driver.find_element(By.NAME , params[\"street_title\"])\n",
    "    street_field.send_keys(params[\"street_val\"])\n",
    "\n",
    "    \n",
    "# runs the base query that is similar to both hdb or street query\n",
    "def run_base_query(driver: webdriver.Chrome, params:dict):\n",
    "    radio = driver.find_element(By.ID, params[\"user_profile_title\"])\n",
    "    radio.click()\n",
    "    flat_type = driver.find_element(By.NAME, params[\"flat_type_title\"])\n",
    "    flat_type.send_keys(params[\"flat_type_val\"])\n",
    "\n",
    "    date_range_field = driver.find_element(By.ID , params[\"date_range_title\"])\n",
    "    date_range_field.send_keys(\"last 12\")\n",
    "\n",
    "# master query function\n",
    "# returns all records in chronological order\n",
    "def run_query(driver: webdriver.Chrome, params: dict):\n",
    "    if params[\"street_val\"]:\n",
    "        run_query_street(driver, params)\n",
    "    else:\n",
    "        run_query_hdb(driver, params)\n",
    "    run_base_query(driver, params)\n",
    "    submit_btn = driver.find_element(By.ID, params[\"submit_btn_id\"])\n",
    "    submit_btn.click()"
   ]
  },
  {
   "cell_type": "code",
   "execution_count": 4,
   "metadata": {},
   "outputs": [],
   "source": [
    "# Runs the query twice which for some reason will then only be able to generate the results\n",
    "def run_query_success(driver: webdriver.Chrome, params:dict):\n",
    "    run_query(driver, params)\n",
    "    run_query(driver, params)"
   ]
  },
  {
   "cell_type": "code",
   "execution_count": 5,
   "metadata": {},
   "outputs": [
    {
     "name": "stdout",
     "output_type": "stream",
     "text": [
      "running street\n",
      "running street\n"
     ]
    }
   ],
   "source": [
    "driver = start_driver()\n",
    "run_query_success(driver, params)\n"
   ]
  },
  {
   "cell_type": "code",
   "execution_count": 6,
   "metadata": {},
   "outputs": [],
   "source": [
    "headers = [\n",
    "    \"Block /Nearby Amenities\",\n",
    "    \"Street Name\",\n",
    "    \"Storey\",\n",
    "    \"Floor Area (sqm)\" , \n",
    "    \"Flat Model\",\n",
    "    \"Lease Commence Date\",\n",
    "    \"Remaining Lease\",\n",
    "    \"Resale Price\",\n",
    "    \"Resale Registration Date\"\n",
    "    ]"
   ]
  },
  {
   "cell_type": "code",
   "execution_count": 7,
   "metadata": {},
   "outputs": [],
   "source": [
    "headers = driver.find_elements(By.XPATH, '//tr[@class=\"svcTableHeader\"]')"
   ]
  },
  {
   "cell_type": "code",
   "execution_count": 8,
   "metadata": {},
   "outputs": [
    {
     "data": {
      "text/plain": [
       "'HDB Town\\nBlock /\\nNearby\\nAmenities\\nStorey\\nFloor Area (sqm) /\\nFlat Model\\nLease Commence Date\\nRemaining Lease \\nResale\\nPrice\\nResale\\nRegistration\\nDate'"
      ]
     },
     "execution_count": 8,
     "metadata": {},
     "output_type": "execute_result"
    }
   ],
   "source": [
    "headers[0].text"
   ]
  },
  {
   "cell_type": "code",
   "execution_count": 9,
   "metadata": {},
   "outputs": [],
   "source": [
    "addresses = driver.find_elements(By.XPATH, '//tr[@height=\"30\"]')\n",
    "# we only need half of them\n",
    "addresses = addresses[:int(len(addresses)/2)]"
   ]
  },
  {
   "cell_type": "code",
   "execution_count": 10,
   "metadata": {},
   "outputs": [],
   "source": [
    "addresses_tr = addresses[1].find_elements(By.XPATH,\".//child::td\")"
   ]
  },
  {
   "cell_type": "code",
   "execution_count": 11,
   "metadata": {},
   "outputs": [
    {
     "data": {
      "text/plain": [
       "28"
      ]
     },
     "execution_count": 11,
     "metadata": {},
     "output_type": "execute_result"
    }
   ],
   "source": [
    "len(addresses)"
   ]
  },
  {
   "cell_type": "code",
   "execution_count": 12,
   "metadata": {},
   "outputs": [
    {
     "data": {
      "text/plain": [
       "8"
      ]
     },
     "execution_count": 12,
     "metadata": {},
     "output_type": "execute_result"
    }
   ],
   "source": [
    "len(addresses_tr)"
   ]
  },
  {
   "cell_type": "code",
   "execution_count": 13,
   "metadata": {},
   "outputs": [
    {
     "name": "stdout",
     "output_type": "stream",
     "text": [
      "index is :0 value  \n",
      "index is :1 value  \n",
      "index is :2 value  \n",
      "index is :3 value  \n",
      "index is :4 value  \n",
      "index is :5 value  \n",
      "index is :6 value  \n",
      "index is :7 value  \n"
     ]
    }
   ],
   "source": [
    "for i, address in enumerate(addresses_tr):\n",
    "    print(\"index is :\" + str(i) + \" value  \" + address.text)"
   ]
  },
  {
   "cell_type": "code",
   "execution_count": 14,
   "metadata": {},
   "outputs": [],
   "source": [
    "data = []"
   ]
  },
  {
   "cell_type": "code",
   "execution_count": 15,
   "metadata": {},
   "outputs": [
    {
     "name": "stdout",
     "output_type": "stream",
     "text": [
      "<selenium.webdriver.remote.webelement.WebElement (session=\"f76c8f1a7180c5cc11557b9506d786d5\", element=\"B4B81B857C4F5BA51EA9879FD54D95D8_element_301\")>\n"
     ]
    },
    {
     "ename": "ValueError",
     "evalue": "not enough values to unpack (expected 2, got 1)",
     "output_type": "error",
     "traceback": [
      "\u001b[1;31m---------------------------------------------------------------------------\u001b[0m",
      "\u001b[1;31mValueError\u001b[0m                                Traceback (most recent call last)",
      "\u001b[1;32mc:\\Users\\Randy\\GitHub\\HDBResalePriceAlert\\codetest.ipynb Cell 15\u001b[0m line \u001b[0;36m1\n\u001b[0;32m     <a href='vscode-notebook-cell:/c%3A/Users/Randy/GitHub/HDBResalePriceAlert/codetest.ipynb#X32sZmlsZQ%3D%3D?line=10'>11</a>\u001b[0m street_name \u001b[39m=\u001b[39m tr[\u001b[39m1\u001b[39m]\u001b[39m.\u001b[39mtext\n\u001b[0;32m     <a href='vscode-notebook-cell:/c%3A/Users/Randy/GitHub/HDBResalePriceAlert/codetest.ipynb#X32sZmlsZQ%3D%3D?line=11'>12</a>\u001b[0m storey \u001b[39m=\u001b[39m tr[\u001b[39m2\u001b[39m]\u001b[39m.\u001b[39mtext\n\u001b[1;32m---> <a href='vscode-notebook-cell:/c%3A/Users/Randy/GitHub/HDBResalePriceAlert/codetest.ipynb#X32sZmlsZQ%3D%3D?line=12'>13</a>\u001b[0m floor_area,flat_model \u001b[39m=\u001b[39m tr[\u001b[39m3\u001b[39m]\u001b[39m.\u001b[39mtext\u001b[39m.\u001b[39msplit(\u001b[39m\"\u001b[39m\u001b[39m\\n\u001b[39;00m\u001b[39m\"\u001b[39m)\n\u001b[0;32m     <a href='vscode-notebook-cell:/c%3A/Users/Randy/GitHub/HDBResalePriceAlert/codetest.ipynb#X32sZmlsZQ%3D%3D?line=13'>14</a>\u001b[0m lease_commence \u001b[39m=\u001b[39m tr[\u001b[39m4\u001b[39m]\u001b[39m.\u001b[39mtext\n\u001b[0;32m     <a href='vscode-notebook-cell:/c%3A/Users/Randy/GitHub/HDBResalePriceAlert/codetest.ipynb#X32sZmlsZQ%3D%3D?line=14'>15</a>\u001b[0m remaining_lease \u001b[39m=\u001b[39m tr[\u001b[39m5\u001b[39m]\u001b[39m.\u001b[39mtext\u001b[39m.\u001b[39msplit(\u001b[39m\"\u001b[39m\u001b[39m\\n\u001b[39;00m\u001b[39m\"\u001b[39m)[\u001b[39m0\u001b[39m]\n",
      "\u001b[1;31mValueError\u001b[0m: not enough values to unpack (expected 2, got 1)"
     ]
    }
   ],
   "source": [
    "counter=0\n",
    "for address in addresses:\n",
    "    if counter >3:\n",
    "        break\n",
    "    tr = address.find_elements(By.XPATH,\".//child::td\")\n",
    "    # for tr_data in tr:\n",
    "    #     print(tr_data.text)\n",
    "    \n",
    "    block = tr[0].text\n",
    "    print(tr[0])\n",
    "    street_name = tr[1].text\n",
    "    storey = tr[2].text\n",
    "    floor_area,flat_model = tr[3].text.split(\"\\n\")\n",
    "    lease_commence = tr[4].text\n",
    "    remaining_lease = tr[5].text.split(\"\\n\")[0]\n",
    "    print(remaining_lease)\n",
    "    resale_price = tr[6].text\n",
    "    resale_date = tr[7].text\n",
    "    data.append([block, street_name, storey, floor_area, flat_model, lease_commence, remaining_lease, resale_price, resale_date])\n",
    "    counter +=1\n"
   ]
  },
  {
   "cell_type": "code",
   "execution_count": null,
   "metadata": {},
   "outputs": [
    {
     "data": {
      "text/plain": [
       "[['310A',\n",
       "  ' Ang Mo Kio Ave 1',\n",
       "  '04 to 06',\n",
       "  '94.00',\n",
       "  'Model A',\n",
       "  '2012',\n",
       "  '87 years\\n11 months',\n",
       "  '$770,000.00',\n",
       "  'Nov 2023'],\n",
       " ['411',\n",
       "  ' Ang Mo Kio Ave 10',\n",
       "  '07 to 09',\n",
       "  '92.00',\n",
       "  'New Generation',\n",
       "  '1979',\n",
       "  '54 years\\n11 months',\n",
       "  '$480,000.00',\n",
       "  'Nov 2023'],\n",
       " ['354',\n",
       "  ' Ang Mo Kio St 32',\n",
       "  '13 to 15',\n",
       "  '95.00',\n",
       "  'Model A',\n",
       "  '2001',\n",
       "  '76 years\\n11 months',\n",
       "  '$770,000.00',\n",
       "  'Nov 2023'],\n",
       " ['455A',\n",
       "  ' Ang Mo Kio St 44',\n",
       "  '04 to 06',\n",
       "  '93.00',\n",
       "  'Model A',\n",
       "  '2018',\n",
       "  '93 years\\n5 months',\n",
       "  '$765,000.00',\n",
       "  'Nov 2023'],\n",
       " ['310A',\n",
       "  ' Ang Mo Kio Ave 1',\n",
       "  '04 to 06',\n",
       "  '94.00',\n",
       "  'Model A',\n",
       "  '2012',\n",
       "  '87 years',\n",
       "  '$770,000.00',\n",
       "  'Nov 2023'],\n",
       " ['411',\n",
       "  ' Ang Mo Kio Ave 10',\n",
       "  '07 to 09',\n",
       "  '92.00',\n",
       "  'New Generation',\n",
       "  '1979',\n",
       "  '54 years',\n",
       "  '$480,000.00',\n",
       "  'Nov 2023'],\n",
       " ['354',\n",
       "  ' Ang Mo Kio St 32',\n",
       "  '13 to 15',\n",
       "  '95.00',\n",
       "  'Model A',\n",
       "  '2001',\n",
       "  '76 years',\n",
       "  '$770,000.00',\n",
       "  'Nov 2023'],\n",
       " ['455A',\n",
       "  ' Ang Mo Kio St 44',\n",
       "  '04 to 06',\n",
       "  '93.00',\n",
       "  'Model A',\n",
       "  '2018',\n",
       "  '93 years',\n",
       "  '$765,000.00',\n",
       "  'Nov 2023']]"
      ]
     },
     "execution_count": 127,
     "metadata": {},
     "output_type": "execute_result"
    }
   ],
   "source": [
    "data"
   ]
  }
 ],
 "metadata": {
  "kernelspec": {
   "display_name": "hdb-resale-alert-env",
   "language": "python",
   "name": "python3"
  },
  "language_info": {
   "codemirror_mode": {
    "name": "ipython",
    "version": 3
   },
   "file_extension": ".py",
   "mimetype": "text/x-python",
   "name": "python",
   "nbconvert_exporter": "python",
   "pygments_lexer": "ipython3",
   "version": "3.12.0"
  }
 },
 "nbformat": 4,
 "nbformat_minor": 2
}
