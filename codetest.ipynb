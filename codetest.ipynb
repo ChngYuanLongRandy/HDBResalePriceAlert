{
 "cells": [
  {
   "cell_type": "code",
   "execution_count": 47,
   "metadata": {},
   "outputs": [],
   "source": [
    "from selenium import webdriver\n",
    "from selenium.webdriver.common.keys import Keys\n",
    "from selenium.webdriver.common.by import By\n",
    "from selenium.webdriver.support.wait import WebDriverWait\n",
    "from selenium.webdriver.support import expected_conditions as EC\n",
    "import time\n",
    "\n",
    "hdb_link = \"https://services2.hdb.gov.sg/webapp/BB33RTIS/BB33SComparator\"\n",
    "hdb_title = \"Resale Flat Prices\"\n",
    "user_profile_title = \"userProfileB\"\n",
    "flat_type_title = \"FLAT_TYPE\"\n",
    "flat_type_val = Keys.NUMPAD4\n",
    "town_title = \"NME_NEWTOWN\"\n",
    "town_val = \"a\"\n",
    "street_title = \"NME_STREET\"\n",
    "street_val = \"j\"\n",
    "date_range_title = \"dteRange\"\n",
    "submit_btn_id = \"btnSubmit\""
   ]
  },
  {
   "cell_type": "code",
   "execution_count": 28,
   "metadata": {},
   "outputs": [],
   "source": [
    "driver = webdriver.Chrome()\n",
    "driver.get(hdb_link)\n",
    "assert hdb_title in driver.title\n",
    "\n",
    "date_range_field = driver.find_element(By.ID , date_range_title)\n",
    "date_range_field.send_keys(\"last\")\n",
    "\n",
    "radio = driver.find_element(By.ID, user_profile_title)\n",
    "radio.click()\n",
    "flat_type = driver.find_element(By.NAME, flat_type_title)\n",
    "flat_type.send_keys(flat_type_val)\n",
    "\n",
    "street_combobox = driver.find_element(By.NAME, street_title)\n",
    "street_combobox.send_keys(\"ang mo kio ave 3\")\n",
    "\n",
    "# hdb_town = driver.find_element(By.NAME, town_title)\n",
    "# hdb_town.send_keys(town_val)\n",
    "\n",
    "\n",
    "\n",
    "driver.find_element(By.LINK_TEXT, \"Accept\").send_keys(Keys.ENTER)"
   ]
  },
  {
   "cell_type": "code",
   "execution_count": null,
   "metadata": {},
   "outputs": [],
   "source": [
    "def run_query(flat_type:str,hdb_town:str)"
   ]
  },
  {
   "cell_type": "code",
   "execution_count": 49,
   "metadata": {},
   "outputs": [],
   "source": [
    "driver = webdriver.Chrome()\n",
    "driver.get(hdb_link)\n",
    "assert hdb_title in driver.title\n",
    "\n",
    "radio = driver.find_element(By.ID, user_profile_title)\n",
    "radio.click()\n",
    "flat_type = driver.find_element(By.NAME, flat_type_title)\n",
    "flat_type.send_keys(flat_type_val)\n",
    "\n",
    "hdb_town = driver.find_element(By.NAME, town_title)\n",
    "hdb_town.send_keys(town_val)\n",
    "\n",
    "date_range_field = driver.find_element(By.ID , date_range_title)\n",
    "date_range_field.send_keys(\"last 12\")\n",
    "\n",
    "submit_btn = driver.find_element(By.ID, submit_btn_id)\n",
    "submit_btn.click()\n",
    "\n",
    "time.sleep(2)\n",
    "radio = driver.find_element(By.ID, user_profile_title)\n",
    "radio.click()\n",
    "flat_type = driver.find_element(By.NAME, flat_type_title)\n",
    "flat_type.send_keys(flat_type_val)\n",
    "\n",
    "hdb_town = driver.find_element(By.NAME, town_title)\n",
    "hdb_town.send_keys(town_val)\n",
    "\n",
    "date_range_field = driver.find_element(By.ID , date_range_title)\n",
    "date_range_field.send_keys(\"last 12\")\n",
    "\n",
    "submit_btn = driver.find_element(By.ID, submit_btn_id)\n",
    "submit_btn.click()"
   ]
  }
 ],
 "metadata": {
  "kernelspec": {
   "display_name": "hdb-resale-alert-env",
   "language": "python",
   "name": "python3"
  },
  "language_info": {
   "codemirror_mode": {
    "name": "ipython",
    "version": 3
   },
   "file_extension": ".py",
   "mimetype": "text/x-python",
   "name": "python",
   "nbconvert_exporter": "python",
   "pygments_lexer": "ipython3",
   "version": "3.12.0"
  }
 },
 "nbformat": 4,
 "nbformat_minor": 2
}
